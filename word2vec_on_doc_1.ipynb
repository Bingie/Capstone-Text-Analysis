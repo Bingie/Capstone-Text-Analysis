{
 "cells": [
  {
   "cell_type": "markdown",
   "metadata": {},
   "source": [
    "# Word2Vec on Document 01"
   ]
  },
  {
   "cell_type": "markdown",
   "metadata": {},
   "source": [
    "1. import gensim library, containing Word2Vec"
   ]
  },
  {
   "cell_type": "code",
   "execution_count": 1,
   "metadata": {},
   "outputs": [],
   "source": [
    "import gensim\n",
    "from gensim.models.doc2vec import Doc2Vec, TaggedDocument"
   ]
  },
  {
   "cell_type": "code",
   "execution_count": 2,
   "metadata": {},
   "outputs": [],
   "source": [
    "from os import listdir\n",
    "from os.path import isfile, join\n",
    "myDir = \"XXXX\" #  directory path here"
   ]
  },
  {
   "cell_type": "markdown",
   "metadata": {},
   "source": [
    "2. store texts index as lists"
   ]
  },
  {
   "cell_type": "code",
   "execution_count": 3,
   "metadata": {},
   "outputs": [],
   "source": [
    "docLabels = []\n",
    "docLabels = [f for f in listdir(myDir) if f.endswith('.txt')]\n",
    "data = []"
   ]
  },
  {
   "cell_type": "markdown",
   "metadata": {},
   "source": [
    "3. Introduce TaggedDocument() to mark the label"
   ]
  },
  {
   "cell_type": "code",
   "execution_count": 4,
   "metadata": {},
   "outputs": [],
   "source": [
    "for doc in docLabels:\n",
    "    words = open(myDir + '/' + doc).read().split()\n",
    "    tags = [doc]\n",
    "    data.append(TaggedDocument(words=words, tags=tags))"
   ]
  },
  {
   "cell_type": "markdown",
   "metadata": {},
   "source": [
    "4. Specify the parameter for Word2Vec, and build the model"
   ]
  },
  {
   "cell_type": "code",
   "execution_count": 5,
   "metadata": {},
   "outputs": [],
   "source": [
    "from gensim.test.utils import get_tmpfile\n",
    "model = Doc2Vec(data, vector_size=300, window=10, min_count=5, workers=11,alpha=0.025, min_alpha=0.025)\n",
    "\n",
    "fname = get_tmpfile(\"doc2vec_model\")\n",
    "\n",
    "model.save(fname)\n",
    "model = Doc2Vec.load(fname)"
   ]
  },
  {
   "cell_type": "markdown",
   "metadata": {},
   "source": [
    "5. Train the model"
   ]
  },
  {
   "cell_type": "code",
   "execution_count": 6,
   "metadata": {},
   "outputs": [],
   "source": [
    "for epoch in range(10):\n",
    "    model.train(data, total_examples = model.corpus_count, epochs = epoch)\n",
    "    model.alpha -= 0.002            # decrease the learning rate\n",
    "    model.min_alpha = model.alpha       # fix the learning rate, no deca\n",
    "    model.train(data, total_examples = model.corpus_count, epochs= epoch)\n",
    "\n",
    "model.save(\"doc2vec.model\")"
   ]
  },
  {
   "cell_type": "markdown",
   "metadata": {},
   "source": [
    "6. Some results for gender related words\n",
    "\n",
    "Note: The results would be different on every training round\n"
   ]
  },
  {
   "cell_type": "code",
   "execution_count": 7,
   "metadata": {},
   "outputs": [
    {
     "name": "stdout",
     "output_type": "stream",
     "text": [
      "[('talent.', 0.8647754788398743), ('attempt', 0.855888843536377), ('historically', 0.851210355758667), ('unfortunately', 0.8404021859169006), ('months,', 0.8361809253692627), ('values', 0.8347140550613403), ('Senior', 0.8308473825454712), ('course', 0.8302127122879028), ('Recent', 0.8302068710327148), ('among', 0.8195008635520935)]\n"
     ]
    }
   ],
   "source": [
    "print(model.wv.most_similar(\"female\"))"
   ]
  },
  {
   "cell_type": "code",
   "execution_count": 8,
   "metadata": {},
   "outputs": [
    {
     "name": "stdout",
     "output_type": "stream",
     "text": [
      "[('10', 0.9156878590583801), ('same', 0.9127234220504761), ('favor', 0.899182915687561), ('over', 0.8984610438346863), ('super', 0.8954505920410156), ('gotten', 0.8952170610427856), ('despite', 0.8952081799507141), ('competitive', 0.8934552073478699), ('developers', 0.8916124105453491), ('career', 0.8901044130325317)]\n"
     ]
    }
   ],
   "source": [
    "print(model.wv.most_similar(\"male\"))"
   ]
  },
  {
   "cell_type": "code",
   "execution_count": 9,
   "metadata": {},
   "outputs": [
    {
     "name": "stdout",
     "output_type": "stream",
     "text": [
      "[('so', 0.8517882227897644), ('her', 0.8300005197525024), ('back', 0.821293830871582), ('public', 0.818763017654419), ('clearly', 0.8181096315383911), ('gender.', 0.8142622709274292), ('it,', 0.8139345645904541), ('head', 0.8089169859886169), ('day', 0.801977276802063), ('employee,', 0.7965777516365051)]\n"
     ]
    }
   ],
   "source": [
    "print(model.wv.most_similar(\"woman\"))"
   ]
  },
  {
   "cell_type": "code",
   "execution_count": 10,
   "metadata": {},
   "outputs": [
    {
     "name": "stdout",
     "output_type": "stream",
     "text": [
      "[('starts', 0.9022583961486816), ('concerns', 0.9018291234970093), ('looking', 0.8929108381271362), ('actual', 0.8929065465927124), ('Also', 0.8926579356193542), ('management', 0.8893594741821289), ('either', 0.8855135440826416), ('except', 0.8821265697479248), ('(or', 0.8807392120361328), ('On', 0.8801034688949585)]\n"
     ]
    }
   ],
   "source": [
    "print(model.wv.most_similar(\"man\"))"
   ]
  }
 ],
 "metadata": {
  "kernelspec": {
   "display_name": "Python 3",
   "language": "python",
   "name": "python3"
  },
  "language_info": {
   "codemirror_mode": {
    "name": "ipython",
    "version": 3
   },
   "file_extension": ".py",
   "mimetype": "text/x-python",
   "name": "python",
   "nbconvert_exporter": "python",
   "pygments_lexer": "ipython3",
   "version": "3.7.3"
  }
 },
 "nbformat": 4,
 "nbformat_minor": 2
}
